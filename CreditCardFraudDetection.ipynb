{
 "cells": [
  {
   "cell_type": "markdown",
   "metadata": {},
   "source": [
    "# Credit Card Fraud Detection\n",
    "#### Garrett Lappe\n",
    "#### Data comes from Kaggle: https://www.kaggle.com/mlg-ulb/creditcardfraud"
   ]
  },
  {
   "cell_type": "code",
   "execution_count": 20,
   "metadata": {},
   "outputs": [],
   "source": [
    "import pandas as pd"
   ]
  },
  {
   "cell_type": "code",
   "execution_count": 21,
   "metadata": {},
   "outputs": [],
   "source": [
    "input_file_path = 'fraud_data.csv'\n",
    "\n",
    "df = pd.read_csv(input_file_path)\n",
    "del df['Time']  # Time field only increments, not very useful especially since we have no variables to track across time"
   ]
  },
  {
   "cell_type": "code",
   "execution_count": 22,
   "metadata": {},
   "outputs": [
    {
     "data": {
      "text/html": [
       "<div>\n",
       "<style scoped>\n",
       "    .dataframe tbody tr th:only-of-type {\n",
       "        vertical-align: middle;\n",
       "    }\n",
       "\n",
       "    .dataframe tbody tr th {\n",
       "        vertical-align: top;\n",
       "    }\n",
       "\n",
       "    .dataframe thead th {\n",
       "        text-align: right;\n",
       "    }\n",
       "</style>\n",
       "<table border=\"1\" class=\"dataframe\">\n",
       "  <thead>\n",
       "    <tr style=\"text-align: right;\">\n",
       "      <th></th>\n",
       "      <th>V1</th>\n",
       "      <th>V2</th>\n",
       "      <th>V3</th>\n",
       "      <th>V4</th>\n",
       "      <th>V5</th>\n",
       "      <th>V6</th>\n",
       "      <th>V7</th>\n",
       "      <th>V8</th>\n",
       "      <th>V9</th>\n",
       "      <th>V10</th>\n",
       "      <th>...</th>\n",
       "      <th>V21</th>\n",
       "      <th>V22</th>\n",
       "      <th>V23</th>\n",
       "      <th>V24</th>\n",
       "      <th>V25</th>\n",
       "      <th>V26</th>\n",
       "      <th>V27</th>\n",
       "      <th>V28</th>\n",
       "      <th>Amount</th>\n",
       "      <th>Class</th>\n",
       "    </tr>\n",
       "  </thead>\n",
       "  <tbody>\n",
       "    <tr>\n",
       "      <th>0</th>\n",
       "      <td>-1.359807</td>\n",
       "      <td>-0.072781</td>\n",
       "      <td>2.536347</td>\n",
       "      <td>1.378155</td>\n",
       "      <td>-0.338321</td>\n",
       "      <td>0.462388</td>\n",
       "      <td>0.239599</td>\n",
       "      <td>0.098698</td>\n",
       "      <td>0.363787</td>\n",
       "      <td>0.090794</td>\n",
       "      <td>...</td>\n",
       "      <td>-0.018307</td>\n",
       "      <td>0.277838</td>\n",
       "      <td>-0.110474</td>\n",
       "      <td>0.066928</td>\n",
       "      <td>0.128539</td>\n",
       "      <td>-0.189115</td>\n",
       "      <td>0.133558</td>\n",
       "      <td>-0.021053</td>\n",
       "      <td>149.62</td>\n",
       "      <td>0</td>\n",
       "    </tr>\n",
       "    <tr>\n",
       "      <th>1</th>\n",
       "      <td>1.191857</td>\n",
       "      <td>0.266151</td>\n",
       "      <td>0.166480</td>\n",
       "      <td>0.448154</td>\n",
       "      <td>0.060018</td>\n",
       "      <td>-0.082361</td>\n",
       "      <td>-0.078803</td>\n",
       "      <td>0.085102</td>\n",
       "      <td>-0.255425</td>\n",
       "      <td>-0.166974</td>\n",
       "      <td>...</td>\n",
       "      <td>-0.225775</td>\n",
       "      <td>-0.638672</td>\n",
       "      <td>0.101288</td>\n",
       "      <td>-0.339846</td>\n",
       "      <td>0.167170</td>\n",
       "      <td>0.125895</td>\n",
       "      <td>-0.008983</td>\n",
       "      <td>0.014724</td>\n",
       "      <td>2.69</td>\n",
       "      <td>0</td>\n",
       "    </tr>\n",
       "    <tr>\n",
       "      <th>2</th>\n",
       "      <td>-1.358354</td>\n",
       "      <td>-1.340163</td>\n",
       "      <td>1.773209</td>\n",
       "      <td>0.379780</td>\n",
       "      <td>-0.503198</td>\n",
       "      <td>1.800499</td>\n",
       "      <td>0.791461</td>\n",
       "      <td>0.247676</td>\n",
       "      <td>-1.514654</td>\n",
       "      <td>0.207643</td>\n",
       "      <td>...</td>\n",
       "      <td>0.247998</td>\n",
       "      <td>0.771679</td>\n",
       "      <td>0.909412</td>\n",
       "      <td>-0.689281</td>\n",
       "      <td>-0.327642</td>\n",
       "      <td>-0.139097</td>\n",
       "      <td>-0.055353</td>\n",
       "      <td>-0.059752</td>\n",
       "      <td>378.66</td>\n",
       "      <td>0</td>\n",
       "    </tr>\n",
       "    <tr>\n",
       "      <th>3</th>\n",
       "      <td>-0.966272</td>\n",
       "      <td>-0.185226</td>\n",
       "      <td>1.792993</td>\n",
       "      <td>-0.863291</td>\n",
       "      <td>-0.010309</td>\n",
       "      <td>1.247203</td>\n",
       "      <td>0.237609</td>\n",
       "      <td>0.377436</td>\n",
       "      <td>-1.387024</td>\n",
       "      <td>-0.054952</td>\n",
       "      <td>...</td>\n",
       "      <td>-0.108300</td>\n",
       "      <td>0.005274</td>\n",
       "      <td>-0.190321</td>\n",
       "      <td>-1.175575</td>\n",
       "      <td>0.647376</td>\n",
       "      <td>-0.221929</td>\n",
       "      <td>0.062723</td>\n",
       "      <td>0.061458</td>\n",
       "      <td>123.50</td>\n",
       "      <td>0</td>\n",
       "    </tr>\n",
       "    <tr>\n",
       "      <th>4</th>\n",
       "      <td>-1.158233</td>\n",
       "      <td>0.877737</td>\n",
       "      <td>1.548718</td>\n",
       "      <td>0.403034</td>\n",
       "      <td>-0.407193</td>\n",
       "      <td>0.095921</td>\n",
       "      <td>0.592941</td>\n",
       "      <td>-0.270533</td>\n",
       "      <td>0.817739</td>\n",
       "      <td>0.753074</td>\n",
       "      <td>...</td>\n",
       "      <td>-0.009431</td>\n",
       "      <td>0.798278</td>\n",
       "      <td>-0.137458</td>\n",
       "      <td>0.141267</td>\n",
       "      <td>-0.206010</td>\n",
       "      <td>0.502292</td>\n",
       "      <td>0.219422</td>\n",
       "      <td>0.215153</td>\n",
       "      <td>69.99</td>\n",
       "      <td>0</td>\n",
       "    </tr>\n",
       "  </tbody>\n",
       "</table>\n",
       "<p>5 rows × 30 columns</p>\n",
       "</div>"
      ],
      "text/plain": [
       "         V1        V2        V3        V4        V5        V6        V7  \\\n",
       "0 -1.359807 -0.072781  2.536347  1.378155 -0.338321  0.462388  0.239599   \n",
       "1  1.191857  0.266151  0.166480  0.448154  0.060018 -0.082361 -0.078803   \n",
       "2 -1.358354 -1.340163  1.773209  0.379780 -0.503198  1.800499  0.791461   \n",
       "3 -0.966272 -0.185226  1.792993 -0.863291 -0.010309  1.247203  0.237609   \n",
       "4 -1.158233  0.877737  1.548718  0.403034 -0.407193  0.095921  0.592941   \n",
       "\n",
       "         V8        V9       V10  ...       V21       V22       V23       V24  \\\n",
       "0  0.098698  0.363787  0.090794  ... -0.018307  0.277838 -0.110474  0.066928   \n",
       "1  0.085102 -0.255425 -0.166974  ... -0.225775 -0.638672  0.101288 -0.339846   \n",
       "2  0.247676 -1.514654  0.207643  ...  0.247998  0.771679  0.909412 -0.689281   \n",
       "3  0.377436 -1.387024 -0.054952  ... -0.108300  0.005274 -0.190321 -1.175575   \n",
       "4 -0.270533  0.817739  0.753074  ... -0.009431  0.798278 -0.137458  0.141267   \n",
       "\n",
       "        V25       V26       V27       V28  Amount  Class  \n",
       "0  0.128539 -0.189115  0.133558 -0.021053  149.62      0  \n",
       "1  0.167170  0.125895 -0.008983  0.014724    2.69      0  \n",
       "2 -0.327642 -0.139097 -0.055353 -0.059752  378.66      0  \n",
       "3  0.647376 -0.221929  0.062723  0.061458  123.50      0  \n",
       "4 -0.206010  0.502292  0.219422  0.215153   69.99      0  \n",
       "\n",
       "[5 rows x 30 columns]"
      ]
     },
     "execution_count": 22,
     "metadata": {},
     "output_type": "execute_result"
    }
   ],
   "source": [
    "df.head()"
   ]
  },
  {
   "cell_type": "markdown",
   "metadata": {},
   "source": [
    "### Features are masked, all data is numeric so we don't need to encode anything."
   ]
  },
  {
   "cell_type": "code",
   "execution_count": 23,
   "metadata": {
    "scrolled": false
   },
   "outputs": [
    {
     "data": {
      "text/plain": [
       "V1        float64\n",
       "V2        float64\n",
       "V3        float64\n",
       "V4        float64\n",
       "V5        float64\n",
       "V6        float64\n",
       "V7        float64\n",
       "V8        float64\n",
       "V9        float64\n",
       "V10       float64\n",
       "V11       float64\n",
       "V12       float64\n",
       "V13       float64\n",
       "V14       float64\n",
       "V15       float64\n",
       "V16       float64\n",
       "V17       float64\n",
       "V18       float64\n",
       "V19       float64\n",
       "V20       float64\n",
       "V21       float64\n",
       "V22       float64\n",
       "V23       float64\n",
       "V24       float64\n",
       "V25       float64\n",
       "V26       float64\n",
       "V27       float64\n",
       "V28       float64\n",
       "Amount    float64\n",
       "Class       int64\n",
       "dtype: object"
      ]
     },
     "execution_count": 23,
     "metadata": {},
     "output_type": "execute_result"
    }
   ],
   "source": [
    "df.dtypes"
   ]
  },
  {
   "cell_type": "markdown",
   "metadata": {},
   "source": [
    "### Class imbalance"
   ]
  },
  {
   "cell_type": "code",
   "execution_count": 24,
   "metadata": {},
   "outputs": [
    {
     "data": {
      "text/plain": [
       "Class\n",
       "0    284315\n",
       "1       492\n",
       "dtype: int64"
      ]
     },
     "execution_count": 24,
     "metadata": {},
     "output_type": "execute_result"
    }
   ],
   "source": [
    "df.groupby('Class').size()"
   ]
  },
  {
   "cell_type": "code",
   "execution_count": 25,
   "metadata": {},
   "outputs": [
    {
     "data": {
      "text/plain": [
       "Class\n",
       "0    0.998273\n",
       "1    0.001727\n",
       "dtype: float64"
      ]
     },
     "execution_count": 25,
     "metadata": {},
     "output_type": "execute_result"
    }
   ],
   "source": [
    "df.groupby('Class').size() / len(df)"
   ]
  },
  {
   "cell_type": "markdown",
   "metadata": {},
   "source": [
    "Over 99.8% of the data we have is class 0 -- NOT FRAUD.\n",
    "\n",
    "Imbalanced data introduces a challenge to many machine learning techniques due to the tendency for the classifier to simply label *everything* as the majority class.\n",
    "\n",
    "In this situation, labeling everything 0 would give us an amazing 99.8% accuracy! However, the classification performance *on each class* is important, and labeling everything 0 would mean we'd completely miss all the fraud cases.\n",
    "\n",
    "### Handling imbalanced data -- over/under sampling\n",
    "\n",
    "We can adjust the class distribution of our training data by oversampling minority (fraud) class, or by under-sampling the majority (non-fraud) class.\n",
    "\n",
    "The end result of each technique is a training set with more even class distributions, which prevents the model from lazily defaulting to the majority class.\n",
    "\n",
    "### Moving forward\n",
    "\n",
    "If we were to under-sample non-fraud to achieve a 50-50 split with 492 class 1 and 492 class 0, this data set may not be large enough to sufficiently train any models on.\n",
    "\n",
    "Additionally, we would be excluding a LOT of non-fraud transactions, so our classifier would likely miss out on many features/patterns in that 99.6% of left-out data.\n",
    "\n",
    "As such, I've decided to proceed with over-sampling to create a training dataset."
   ]
  },
  {
   "cell_type": "markdown",
   "metadata": {},
   "source": [
    "### Make train-test split\n",
    "\n",
    "Remember, we only want to oversample with the TRAINING dataset.\n",
    "\n",
    "The test/validation data should be representative of what the actual population is--so we'll keep the imbalance there."
   ]
  },
  {
   "cell_type": "code",
   "execution_count": 26,
   "metadata": {},
   "outputs": [],
   "source": [
    "from sklearn.model_selection import train_test_split"
   ]
  },
  {
   "cell_type": "code",
   "execution_count": 28,
   "metadata": {},
   "outputs": [],
   "source": [
    "labels = df['Class']\n",
    "df.drop(columns='Class', axis=1, inplace=True)  # data is left with features only\n",
    "\n",
    "X_train, X_test, y_train, y_test = train_test_split(df, labels, stratify=labels, random_state=18)\n",
    "assert len(X_train)==len(y_train)  # checking for myself that I unpacked the variables correctly!"
   ]
  },
  {
   "cell_type": "markdown",
   "metadata": {},
   "source": [
    "### Oversampling"
   ]
  },
  {
   "cell_type": "code",
   "execution_count": 29,
   "metadata": {},
   "outputs": [],
   "source": [
    "from imblearn.over_sampling import SMOTE"
   ]
  },
  {
   "cell_type": "code",
   "execution_count": 30,
   "metadata": {},
   "outputs": [],
   "source": [
    "sampler = SMOTE(sampling_strategy='auto', random_state=18, k_neighbors=5)"
   ]
  },
  {
   "cell_type": "code",
   "execution_count": 34,
   "metadata": {},
   "outputs": [
    {
     "data": {
      "text/plain": [
       "213605"
      ]
     },
     "execution_count": 34,
     "metadata": {},
     "output_type": "execute_result"
    }
   ],
   "source": [
    "len(y_train)  # original train dataset size"
   ]
  },
  {
   "cell_type": "code",
   "execution_count": 35,
   "metadata": {},
   "outputs": [
    {
     "data": {
      "text/plain": [
       "369"
      ]
     },
     "execution_count": 35,
     "metadata": {},
     "output_type": "execute_result"
    }
   ],
   "source": [
    "sum(y_train)  # number of fraud cases in original train dataset"
   ]
  },
  {
   "cell_type": "code",
   "execution_count": 33,
   "metadata": {},
   "outputs": [],
   "source": [
    "X_train_rs, y_train_rs = sampler.fit_resample(X_train, y_train)"
   ]
  },
  {
   "cell_type": "code",
   "execution_count": 36,
   "metadata": {},
   "outputs": [
    {
     "data": {
      "text/plain": [
       "426472"
      ]
     },
     "execution_count": 36,
     "metadata": {},
     "output_type": "execute_result"
    }
   ],
   "source": [
    "len(y_train_rs)  # new train dataset size"
   ]
  },
  {
   "cell_type": "code",
   "execution_count": 38,
   "metadata": {},
   "outputs": [
    {
     "data": {
      "text/plain": [
       "0.5"
      ]
     },
     "execution_count": 38,
     "metadata": {},
     "output_type": "execute_result"
    }
   ],
   "source": [
    "sum(y_train_rs) / len(y_train_rs)  # proportion of new train dataset labeled as fraud"
   ]
  },
  {
   "cell_type": "markdown",
   "metadata": {},
   "source": [
    "# LightGBM"
   ]
  },
  {
   "cell_type": "markdown",
   "metadata": {},
   "source": [
    "### Base Model Creation"
   ]
  },
  {
   "cell_type": "code",
   "execution_count": 39,
   "metadata": {},
   "outputs": [],
   "source": [
    "import lightgbm as lgb\n",
    "from lightgbm import cv, Dataset"
   ]
  },
  {
   "cell_type": "code",
   "execution_count": 41,
   "metadata": {},
   "outputs": [],
   "source": [
    "# another train-test-split within the train dataset\n",
    "train_dataset = Dataset(X_train_rs, y_train_rs, free_raw_data=False)  # keep original X_train_rs and y_train_rs\n",
    "test_dataset = Dataset(X_test, y_test, free_raw_data=False)  # keep original X_test and y_test"
   ]
  },
  {
   "cell_type": "code",
   "execution_count": 42,
   "metadata": {},
   "outputs": [],
   "source": [
    "param = {'num_leaves': 31, \n",
    "         'objective': 'binary',\n",
    "         'metric':'auc'}"
   ]
  },
  {
   "cell_type": "code",
   "execution_count": 45,
   "metadata": {},
   "outputs": [
    {
     "name": "stdout",
     "output_type": "stream",
     "text": [
      "[1]\tvalid_0's auc: 0.953324\n",
      "[2]\tvalid_0's auc: 0.95206\n",
      "[3]\tvalid_0's auc: 0.957489\n",
      "[4]\tvalid_0's auc: 0.955543\n",
      "[5]\tvalid_0's auc: 0.956275\n",
      "[6]\tvalid_0's auc: 0.956993\n",
      "[7]\tvalid_0's auc: 0.965282\n",
      "[8]\tvalid_0's auc: 0.96564\n",
      "[9]\tvalid_0's auc: 0.965528\n",
      "[10]\tvalid_0's auc: 0.964598\n",
      "[11]\tvalid_0's auc: 0.964211\n",
      "[12]\tvalid_0's auc: 0.962485\n",
      "[13]\tvalid_0's auc: 0.963229\n",
      "[14]\tvalid_0's auc: 0.96269\n",
      "[15]\tvalid_0's auc: 0.963021\n",
      "[16]\tvalid_0's auc: 0.964777\n",
      "[17]\tvalid_0's auc: 0.964842\n",
      "[18]\tvalid_0's auc: 0.964748\n",
      "[19]\tvalid_0's auc: 0.965872\n",
      "[20]\tvalid_0's auc: 0.966563\n",
      "[21]\tvalid_0's auc: 0.967233\n",
      "[22]\tvalid_0's auc: 0.966815\n",
      "[23]\tvalid_0's auc: 0.967446\n",
      "[24]\tvalid_0's auc: 0.967493\n",
      "[25]\tvalid_0's auc: 0.967448\n",
      "[26]\tvalid_0's auc: 0.967\n",
      "[27]\tvalid_0's auc: 0.966443\n",
      "[28]\tvalid_0's auc: 0.966108\n",
      "[29]\tvalid_0's auc: 0.965726\n",
      "[30]\tvalid_0's auc: 0.966346\n",
      "[31]\tvalid_0's auc: 0.96631\n",
      "[32]\tvalid_0's auc: 0.96603\n",
      "[33]\tvalid_0's auc: 0.965727\n",
      "[34]\tvalid_0's auc: 0.965732\n",
      "[35]\tvalid_0's auc: 0.965395\n",
      "[36]\tvalid_0's auc: 0.965609\n",
      "[37]\tvalid_0's auc: 0.965575\n",
      "[38]\tvalid_0's auc: 0.965032\n",
      "[39]\tvalid_0's auc: 0.96444\n",
      "[40]\tvalid_0's auc: 0.964752\n",
      "[41]\tvalid_0's auc: 0.964956\n",
      "[42]\tvalid_0's auc: 0.964491\n",
      "[43]\tvalid_0's auc: 0.96506\n",
      "[44]\tvalid_0's auc: 0.964635\n",
      "[45]\tvalid_0's auc: 0.964813\n",
      "[46]\tvalid_0's auc: 0.965061\n",
      "[47]\tvalid_0's auc: 0.965122\n",
      "[48]\tvalid_0's auc: 0.967004\n",
      "[49]\tvalid_0's auc: 0.966788\n",
      "[50]\tvalid_0's auc: 0.967399\n",
      "[51]\tvalid_0's auc: 0.967227\n",
      "[52]\tvalid_0's auc: 0.967596\n",
      "[53]\tvalid_0's auc: 0.967037\n",
      "[54]\tvalid_0's auc: 0.966508\n",
      "[55]\tvalid_0's auc: 0.966121\n",
      "[56]\tvalid_0's auc: 0.965724\n",
      "[57]\tvalid_0's auc: 0.965749\n",
      "[58]\tvalid_0's auc: 0.96535\n",
      "[59]\tvalid_0's auc: 0.965874\n",
      "[60]\tvalid_0's auc: 0.965068\n",
      "[61]\tvalid_0's auc: 0.96432\n",
      "[62]\tvalid_0's auc: 0.964201\n",
      "[63]\tvalid_0's auc: 0.964193\n",
      "[64]\tvalid_0's auc: 0.963953\n",
      "[65]\tvalid_0's auc: 0.964147\n",
      "[66]\tvalid_0's auc: 0.963228\n",
      "[67]\tvalid_0's auc: 0.963671\n",
      "[68]\tvalid_0's auc: 0.963839\n",
      "[69]\tvalid_0's auc: 0.964289\n",
      "[70]\tvalid_0's auc: 0.964658\n",
      "[71]\tvalid_0's auc: 0.965\n",
      "[72]\tvalid_0's auc: 0.96585\n",
      "[73]\tvalid_0's auc: 0.96649\n",
      "[74]\tvalid_0's auc: 0.966191\n",
      "[75]\tvalid_0's auc: 0.958063\n",
      "[76]\tvalid_0's auc: 0.958466\n",
      "[77]\tvalid_0's auc: 0.95883\n",
      "[78]\tvalid_0's auc: 0.959411\n",
      "[79]\tvalid_0's auc: 0.958261\n",
      "[80]\tvalid_0's auc: 0.959348\n",
      "[81]\tvalid_0's auc: 0.959083\n",
      "[82]\tvalid_0's auc: 0.95997\n",
      "[83]\tvalid_0's auc: 0.959722\n",
      "[84]\tvalid_0's auc: 0.952904\n",
      "[85]\tvalid_0's auc: 0.952844\n",
      "[86]\tvalid_0's auc: 0.952592\n",
      "[87]\tvalid_0's auc: 0.952719\n",
      "[88]\tvalid_0's auc: 0.953152\n",
      "[89]\tvalid_0's auc: 0.945623\n",
      "[90]\tvalid_0's auc: 0.94709\n",
      "[91]\tvalid_0's auc: 0.948176\n",
      "[92]\tvalid_0's auc: 0.9484\n",
      "[93]\tvalid_0's auc: 0.949021\n",
      "[94]\tvalid_0's auc: 0.949941\n",
      "[95]\tvalid_0's auc: 0.950828\n",
      "[96]\tvalid_0's auc: 0.951462\n",
      "[97]\tvalid_0's auc: 0.952079\n",
      "[98]\tvalid_0's auc: 0.95162\n",
      "[99]\tvalid_0's auc: 0.951876\n",
      "[100]\tvalid_0's auc: 0.952274\n"
     ]
    }
   ],
   "source": [
    "bst = lgb.train(param, train_dataset, 100, valid_sets=[test_dataset])"
   ]
  },
  {
   "cell_type": "markdown",
   "metadata": {},
   "source": [
    "##### Base model precision and recall"
   ]
  },
  {
   "cell_type": "code",
   "execution_count": 46,
   "metadata": {},
   "outputs": [],
   "source": [
    "from sklearn.metrics import precision_score, recall_score, accuracy_score"
   ]
  },
  {
   "cell_type": "code",
   "execution_count": 47,
   "metadata": {},
   "outputs": [
    {
     "data": {
      "text/plain": [
       "array([2.47675833e-04, 1.09144672e-03, 2.27556613e-04, 1.18857788e-04,\n",
       "       7.60423365e-05, 1.56942606e-04, 2.48900993e-03, 5.29986869e-04,\n",
       "       9.20436583e-05, 2.49877476e-03])"
      ]
     },
     "execution_count": 47,
     "metadata": {},
     "output_type": "execute_result"
    }
   ],
   "source": [
    "y_pred = bst.predict(X_test)\n",
    "y_pred[:10]"
   ]
  },
  {
   "cell_type": "code",
   "execution_count": 49,
   "metadata": {},
   "outputs": [
    {
     "name": "stdout",
     "output_type": "stream",
     "text": [
      "Number of predictions made: 71202\n",
      "Number of transactions predicted to be fraud: 130\n",
      "Number of actual fraud cases: 123\n"
     ]
    }
   ],
   "source": [
    "y_pred_classes = [1 if p>= 0.5 else 0 for p in y_pred]\n",
    "print('Number of predictions made:', len(y_pred))\n",
    "print('Number of transactions predicted to be fraud:', sum(y_pred_classes))\n",
    "print('Number of actual fraud cases:', sum(y_test))"
   ]
  },
  {
   "cell_type": "markdown",
   "metadata": {},
   "source": [
    "#### Precision - if we say it's fraud, how often did it actually turn out to be fraud?"
   ]
  },
  {
   "cell_type": "code",
   "execution_count": 56,
   "metadata": {},
   "outputs": [
    {
     "name": "stdout",
     "output_type": "stream",
     "text": [
      "Base model precision score: 0.7385\n"
     ]
    }
   ],
   "source": [
    "base_precision = precision_score(y_pred=y_pred_classes, y_true=y_test)\n",
    "print('Base model precision score: {}'.format(round(base_precision,4)))  # proportion of cases we labeled fraud that ARE fraud"
   ]
  },
  {
   "cell_type": "markdown",
   "metadata": {},
   "source": [
    "#### Recall - how good were we at identifying actual fraud when it occurs?"
   ]
  },
  {
   "cell_type": "code",
   "execution_count": 57,
   "metadata": {},
   "outputs": [
    {
     "name": "stdout",
     "output_type": "stream",
     "text": [
      "Base model recall score: 0.7805\n"
     ]
    }
   ],
   "source": [
    "base_recall = recall_score(y_pred=y_pred_classes, y_true=y_test)\n",
    "print('Base model recall score: {}'.format(round(base_recall,4)))  # proportion of fraud cases we labeled as fraud"
   ]
  },
  {
   "cell_type": "markdown",
   "metadata": {},
   "source": [
    "#### Accuracy - overall results"
   ]
  },
  {
   "cell_type": "code",
   "execution_count": 119,
   "metadata": {},
   "outputs": [
    {
     "name": "stdout",
     "output_type": "stream",
     "text": [
      "Base accuracy: 0.9991\n"
     ]
    }
   ],
   "source": [
    "print('Base accuracy: {}'.format(round(accuracy_score(y_pred=y_pred_classes, y_true=y_test),4)))"
   ]
  },
  {
   "cell_type": "markdown",
   "metadata": {},
   "source": [
    "### In depth - RandomizedSearchCV\n",
    "\n",
    "Search through a number of parameter value combinations to find configurations that out-perform the base model"
   ]
  },
  {
   "cell_type": "code",
   "execution_count": 61,
   "metadata": {},
   "outputs": [],
   "source": [
    "import numpy as np"
   ]
  },
  {
   "cell_type": "code",
   "execution_count": 68,
   "metadata": {},
   "outputs": [
    {
     "data": {
      "text/plain": [
       "486"
      ]
     },
     "execution_count": 68,
     "metadata": {},
     "output_type": "execute_result"
    }
   ],
   "source": [
    "param_grid = {'num_leaves': [15, 31, 55, 87, 131, 221],\n",
    "              'min_child_weight': [1e-5, 1e-3, 1e-2, 1e-1, 1, 1e1, 1e2, 1e3, 1e4],\n",
    "              'bagging_fraction': [.6, .8, 1.0],\n",
    "              'feature_fraction': [.6, .8, 1.0]}\n",
    "num_param_options = [len(param_grid[p]) for p in param_grid]\n",
    "num_combos = np.prod(num_param_options)\n",
    "num_combos"
   ]
  },
  {
   "cell_type": "code",
   "execution_count": 59,
   "metadata": {},
   "outputs": [],
   "source": [
    "from lightgbm import LGBMClassifier"
   ]
  },
  {
   "cell_type": "code",
   "execution_count": 60,
   "metadata": {},
   "outputs": [],
   "source": [
    "from sklearn.model_selection import RandomizedSearchCV"
   ]
  },
  {
   "cell_type": "code",
   "execution_count": 69,
   "metadata": {},
   "outputs": [],
   "source": [
    "est = LGBMClassifier()\n",
    "clf = RandomizedSearchCV(est, param_distributions=param_grid, n_iter=50, n_jobs=-1, verbose=2)"
   ]
  },
  {
   "cell_type": "code",
   "execution_count": 70,
   "metadata": {},
   "outputs": [
    {
     "name": "stdout",
     "output_type": "stream",
     "text": [
      "Fitting 5 folds for each of 50 candidates, totalling 250 fits\n"
     ]
    },
    {
     "name": "stderr",
     "output_type": "stream",
     "text": [
      "[Parallel(n_jobs=-1)]: Using backend LokyBackend with 32 concurrent workers.\n",
      "[Parallel(n_jobs=-1)]: Done  98 tasks      | elapsed:  2.0min\n",
      "[Parallel(n_jobs=-1)]: Done 250 out of 250 | elapsed:  3.8min finished\n"
     ]
    },
    {
     "data": {
      "text/plain": [
       "RandomizedSearchCV(cv=None, error_score=nan,\n",
       "                   estimator=LGBMClassifier(boosting_type='gbdt',\n",
       "                                            class_weight=None,\n",
       "                                            colsample_bytree=1.0,\n",
       "                                            importance_type='split',\n",
       "                                            learning_rate=0.1, max_depth=-1,\n",
       "                                            min_child_samples=20,\n",
       "                                            min_child_weight=0.001,\n",
       "                                            min_split_gain=0.0,\n",
       "                                            n_estimators=100, n_jobs=-1,\n",
       "                                            num_leaves=31, objective=None,\n",
       "                                            random_state=None, reg_alpha=0.0,\n",
       "                                            reg_lambda=0.0, s...\n",
       "                                            subsample_for_bin=200000,\n",
       "                                            subsample_freq=0),\n",
       "                   iid='deprecated', n_iter=50, n_jobs=-1,\n",
       "                   param_distributions={'bagging_fraction': [0.6, 0.8, 1.0],\n",
       "                                        'feature_fraction': [0.6, 0.8, 1.0],\n",
       "                                        'min_child_weight': [1e-05, 0.001, 0.01,\n",
       "                                                             0.1, 1, 10.0,\n",
       "                                                             100.0, 1000.0,\n",
       "                                                             10000.0],\n",
       "                                        'num_leaves': [15, 31, 55, 87, 131,\n",
       "                                                       221]},\n",
       "                   pre_dispatch='2*n_jobs', random_state=None, refit=True,\n",
       "                   return_train_score=False, scoring=None, verbose=2)"
      ]
     },
     "execution_count": 70,
     "metadata": {},
     "output_type": "execute_result"
    }
   ],
   "source": [
    "clf.fit(X_train_rs, y_train_rs)"
   ]
  },
  {
   "cell_type": "markdown",
   "metadata": {},
   "source": [
    "#### Best-performing model paramters:"
   ]
  },
  {
   "cell_type": "code",
   "execution_count": 71,
   "metadata": {},
   "outputs": [
    {
     "data": {
      "text/plain": [
       "{'num_leaves': 221,\n",
       " 'min_child_weight': 0.001,\n",
       " 'feature_fraction': 0.8,\n",
       " 'bagging_fraction': 0.6}"
      ]
     },
     "execution_count": 71,
     "metadata": {},
     "output_type": "execute_result"
    }
   ],
   "source": [
    "clf.best_params_"
   ]
  },
  {
   "cell_type": "markdown",
   "metadata": {},
   "source": [
    "#### RandomizedSearchCV - best model evaluataion"
   ]
  },
  {
   "cell_type": "code",
   "execution_count": 77,
   "metadata": {},
   "outputs": [
    {
     "name": "stdout",
     "output_type": "stream",
     "text": [
      "Number of predictions made: 71202\n",
      "Number of transactions predicted to be fraud: 112\n",
      "Number of actual fraud cases: 123\n"
     ]
    }
   ],
   "source": [
    "y_pred = clf.best_estimator_.predict(X_test)\n",
    "print('Number of predictions made:', len(y_pred))\n",
    "print('Number of transactions predicted to be fraud:', sum(y_pred))\n",
    "print('Number of actual fraud cases:', sum(y_test))"
   ]
  },
  {
   "cell_type": "code",
   "execution_count": 78,
   "metadata": {},
   "outputs": [
    {
     "name": "stdout",
     "output_type": "stream",
     "text": [
      "RandomizedSearchCV best model precision score: 0.875\n"
     ]
    }
   ],
   "source": [
    "rs_precision = precision_score(y_pred=y_pred, y_true=y_test)\n",
    "print('RandomizedSearchCV best model precision score: {}'.format(round(rs_precision,4)))"
   ]
  },
  {
   "cell_type": "code",
   "execution_count": 79,
   "metadata": {},
   "outputs": [
    {
     "name": "stdout",
     "output_type": "stream",
     "text": [
      "RandomizedSearchCV best model recall score: 0.7967\n"
     ]
    }
   ],
   "source": [
    "rs_recall = recall_score(y_pred=y_pred, y_true=y_test)\n",
    "print('RandomizedSearchCV best model recall score: {}'.format(round(rs_recall,4)))"
   ]
  },
  {
   "cell_type": "code",
   "execution_count": 92,
   "metadata": {},
   "outputs": [],
   "source": [
    "from sklearn.metrics import roc_auc_score"
   ]
  },
  {
   "cell_type": "code",
   "execution_count": 96,
   "metadata": {},
   "outputs": [
    {
     "data": {
      "text/plain": [
       "array([9.99972022e-01, 2.79776534e-05])"
      ]
     },
     "execution_count": 96,
     "metadata": {},
     "output_type": "execute_result"
    }
   ],
   "source": [
    "y_pred_p = clf.best_estimator_.predict_proba(X_test)\n",
    "y_pred_p[0]"
   ]
  },
  {
   "cell_type": "markdown",
   "metadata": {},
   "source": [
    "#### Final ROC_AUC_Score"
   ]
  },
  {
   "cell_type": "code",
   "execution_count": 120,
   "metadata": {},
   "outputs": [
    {
     "data": {
      "text/plain": [
       "0.9677"
      ]
     },
     "execution_count": 120,
     "metadata": {},
     "output_type": "execute_result"
    }
   ],
   "source": [
    "y_pred_scores = [p[1] for p in y_pred_p]\n",
    "round(roc_auc_score(y_score=y_pred_scores, y_true=y_test),4)"
   ]
  },
  {
   "cell_type": "markdown",
   "metadata": {},
   "source": [
    "### Summary"
   ]
  },
  {
   "cell_type": "code",
   "execution_count": 100,
   "metadata": {},
   "outputs": [
    {
     "name": "stdout",
     "output_type": "stream",
     "text": [
      "Comparing base to RandomizedSearchCV best model\n",
      "Base Precision: 0.7385\tRSCV Precision: 0.875\n",
      "Base Recall: 0.7805\tRSCV Recall: 0.7967\n"
     ]
    }
   ],
   "source": [
    "print('Comparing base to RandomizedSearchCV best model')\n",
    "print('Base Precision: {}\\tRSCV Precision: {}'.format(round(base_precision,4),round(rs_precision,4)))\n",
    "print('Base Recall: {}\\tRSCV Recall: {}'.format(round(base_recall,4),round(rs_recall,4)))"
   ]
  },
  {
   "cell_type": "code",
   "execution_count": 81,
   "metadata": {},
   "outputs": [
    {
     "name": "stdout",
     "output_type": "stream",
     "text": [
      "RandomizedSearchCV: Precision improvement: 0.1365\n",
      "RandomizedSearchCV: Recall improvement: 0.0163\n"
     ]
    }
   ],
   "source": [
    "print('RandomizedSearchCV: Precision improvement: {}'.format(round(rs_precision - base_precision, 4)))\n",
    "print('RandomizedSearchCV: Recall improvement: {}'.format(round(rs_recall - base_recall, 4)))"
   ]
  },
  {
   "cell_type": "code",
   "execution_count": 89,
   "metadata": {},
   "outputs": [
    {
     "name": "stdout",
     "output_type": "stream",
     "text": [
      "Precision is 18.49% higher than base\n"
     ]
    }
   ],
   "source": [
    "print('Precision is {}% higher than base'.format(round(100*((rs_precision - base_precision)/base_precision),2)))"
   ]
  },
  {
   "cell_type": "code",
   "execution_count": 90,
   "metadata": {},
   "outputs": [
    {
     "name": "stdout",
     "output_type": "stream",
     "text": [
      "Recall is 2.08% higher than base\n"
     ]
    }
   ],
   "source": [
    "print('Recall is {}% higher than base'.format(round(100*((rs_recall - base_recall)/base_recall),2)))"
   ]
  },
  {
   "cell_type": "code",
   "execution_count": 117,
   "metadata": {},
   "outputs": [
    {
     "name": "stdout",
     "output_type": "stream",
     "text": [
      "Final accuracy: 0.9995\n"
     ]
    }
   ],
   "source": [
    "print('Final accuracy: {}'.format(round(accuracy_score(y_pred=y_pred, y_true=y_test),4)))"
   ]
  },
  {
   "cell_type": "markdown",
   "metadata": {},
   "source": [
    "By over-sampling the fraud class for the training dataset, we were able to create a larger, more balanced dataset.\n",
    "\n",
    "We evaluated the model on the original, imbalanced class distribution.\n",
    "\n",
    "Using RandomizedSearchCV, we cross-validated 50 different parameter combinations to find a model that out-performed the base model.\n",
    "\n",
    "Precision was increased significantly (fewer false positives), recall improved slightly (more true positives).\n",
    "\n",
    "ROC AUC score was improved from .952 to .968"
   ]
  },
  {
   "cell_type": "markdown",
   "metadata": {},
   "source": [
    "### Visualizing Performance"
   ]
  },
  {
   "cell_type": "code",
   "execution_count": 102,
   "metadata": {},
   "outputs": [],
   "source": [
    "from sklearn.metrics import plot_confusion_matrix\n",
    "import matplotlib.pyplot as plt"
   ]
  },
  {
   "cell_type": "code",
   "execution_count": 114,
   "metadata": {},
   "outputs": [
    {
     "data": {
      "image/png": "[encoded data removed]",
      "text/plain": [
       "<Figure size 432x288 with 2 Axes>"
      ]
     },
     "metadata": {
      "needs_background": "light"
     },
     "output_type": "display_data"
    }
   ],
   "source": [
    "disp = plot_confusion_matrix(clf.best_estimator_, X_test, y_test,\n",
    "                             display_labels=['Legit','Fraud'],\n",
    "                             cmap=plt.cm.Blues,\n",
    "                             normalize='true')\n",
    "plt.show()"
   ]
  }
 ],
 "metadata": {
  "kernelspec": {
   "display_name": "Python 3",
   "language": "python",
   "name": "python3"
  },
  "language_info": {
   "codemirror_mode": {
    "name": "ipython",
    "version": 3
   },
   "file_extension": ".py",
   "mimetype": "text/x-python",
   "name": "python",
   "nbconvert_exporter": "python",
   "pygments_lexer": "ipython3",
   "version": "3.7.3"
  }
 },
 "nbformat": 4,
 "nbformat_minor": 2
}
